{
 "cells": [
  {
   "cell_type": "code",
   "execution_count": 19,
   "id": "4048a351",
   "metadata": {},
   "outputs": [],
   "source": [
    "import tensorflow as tf\n",
    "from tensorflow.keras.layers import Dense\n",
    "from tensorflow.keras.models import Sequential"
   ]
  },
  {
   "cell_type": "code",
   "execution_count": 20,
   "id": "12300b56",
   "metadata": {},
   "outputs": [],
   "source": [
    "# Define the diffusion matrix\n",
    "diffusion_matrix = tf.constant([[0.8, 0.4, 0.2],\n",
    "                                [0.2, 0.3, 0.3],\n",
    "                                [0.4, 0.2, 0.8]])\n",
    "\n"
   ]
  },
  {
   "cell_type": "code",
   "execution_count": 21,
   "id": "3649aec4",
   "metadata": {},
   "outputs": [],
   "source": [
    "#input data\n",
    "input_data = tf.constant([[1.0, 2.0, 3.0]])\n"
   ]
  },
  {
   "cell_type": "code",
   "execution_count": 22,
   "id": "2be21800",
   "metadata": {},
   "outputs": [],
   "source": [
    "# Create the neural network model\n",
    "model = Sequential()\n",
    "model.add(Dense(10, input_shape=(3,)))\n",
    "model.add(Dense(3, activation='softmax'))\n"
   ]
  },
  {
   "cell_type": "code",
   "execution_count": 23,
   "id": "e822b499",
   "metadata": {},
   "outputs": [],
   "source": [
    "# Define a custom diffusion matrix layer\n",
    "class DiffusionMatrixLayer(tf.keras.layers.Layer):\n",
    "    def __init__(self, diffusion_matrix):\n",
    "        super(DiffusionMatrixLayer, self).__init__()\n",
    "        self.diffusion_matrix = diffusion_matrix\n",
    "\n",
    "    def call(self, inputs):\n",
    "        return tf.matmul(inputs, self.diffusion_matrix)"
   ]
  },
  {
   "cell_type": "code",
   "execution_count": 24,
   "id": "7800dfec",
   "metadata": {},
   "outputs": [],
   "source": [
    "# Create an instance of the diffusion matrix layer\n",
    "diffusion_layer = DiffusionMatrixLayer(diffusion_matrix)\n"
   ]
  },
  {
   "cell_type": "code",
   "execution_count": 25,
   "id": "837bf47b",
   "metadata": {},
   "outputs": [],
   "source": [
    "# Connect the diffusion layer to the model\n",
    "model.add(diffusion_layer)"
   ]
  },
  {
   "cell_type": "code",
   "execution_count": 26,
   "id": "f7c277bc",
   "metadata": {},
   "outputs": [],
   "source": [
    "#Compile\n",
    "model.compile(optimizer='adam', loss='categorical_crossentropy')\n"
   ]
  },
  {
   "cell_type": "code",
   "execution_count": 27,
   "id": "ea23a817",
   "metadata": {},
   "outputs": [
    {
     "name": "stdout",
     "output_type": "stream",
     "text": [
      "Epoch 1/10\n",
      "1/1 [==============================] - 1s 683ms/step - loss: 0.9117\n",
      "Epoch 2/10\n",
      "1/1 [==============================] - 0s 15ms/step - loss: 0.9005\n",
      "Epoch 3/10\n",
      "1/1 [==============================] - 0s 18ms/step - loss: 0.8895\n",
      "Epoch 4/10\n",
      "1/1 [==============================] - 0s 12ms/step - loss: 0.8785\n",
      "Epoch 5/10\n",
      "1/1 [==============================] - 0s 8ms/step - loss: 0.8677\n",
      "Epoch 6/10\n",
      "1/1 [==============================] - 0s 12ms/step - loss: 0.8570\n",
      "Epoch 7/10\n",
      "1/1 [==============================] - 0s 14ms/step - loss: 0.8464\n",
      "Epoch 8/10\n",
      "1/1 [==============================] - 0s 15ms/step - loss: 0.8360\n",
      "Epoch 9/10\n",
      "1/1 [==============================] - 0s 13ms/step - loss: 0.8258\n",
      "Epoch 10/10\n",
      "1/1 [==============================] - 0s 15ms/step - loss: 0.8158\n"
     ]
    },
    {
     "data": {
      "text/plain": [
       "<keras.callbacks.History at 0x22274e77670>"
      ]
     },
     "execution_count": 27,
     "metadata": {},
     "output_type": "execute_result"
    }
   ],
   "source": [
    "# Train the model\n",
    "target_output = tf.one_hot([0], depth=3)  # Assuming the target class is 0\n",
    "model.fit(input_data, target_output, epochs=10)"
   ]
  },
  {
   "cell_type": "code",
   "execution_count": 18,
   "id": "4aaf1117",
   "metadata": {},
   "outputs": [
    {
     "name": "stdout",
     "output_type": "stream",
     "text": [
      "1/1 [==============================] - 0s 105ms/step\n",
      "Prediction: [[0.302112   0.21379595 0.48409203]]\n"
     ]
    }
   ],
   "source": [
    "#Predict using the trained model\n",
    "prediction = model.predict(input_data)\n",
    "print(\"Prediction:\", prediction)\n"
   ]
  },
  {
   "cell_type": "code",
   "execution_count": null,
   "id": "79ce0c45",
   "metadata": {},
   "outputs": [],
   "source": []
  }
 ],
 "metadata": {
  "kernelspec": {
   "display_name": "Python 3 (ipykernel)",
   "language": "python",
   "name": "python3"
  },
  "language_info": {
   "codemirror_mode": {
    "name": "ipython",
    "version": 3
   },
   "file_extension": ".py",
   "mimetype": "text/x-python",
   "name": "python",
   "nbconvert_exporter": "python",
   "pygments_lexer": "ipython3",
   "version": "3.9.16"
  }
 },
 "nbformat": 4,
 "nbformat_minor": 5
}
